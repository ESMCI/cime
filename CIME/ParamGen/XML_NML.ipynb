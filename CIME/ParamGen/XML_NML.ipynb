{
 "cells": [
  {
   "cell_type": "markdown",
   "metadata": {},
   "source": [
    "# XML Namelist Format in ParamGen\n",
    "Alper Altuntas, NCAR\\\n",
    "Boulder, CO - 2021"
   ]
  },
  {
   "cell_type": "markdown",
   "metadata": {},
   "source": [
    "## 1. Introduction\n",
    "\n",
    "Here, we briefly describe a special use case of ParamGen: XML-based namelist format. This document is complementary to the README.ipynb file, which describes ParamGen in a broader context and with more detail. It is advised to read the README.ipynb file first."
   ]
  },
  {
   "cell_type": "markdown",
   "metadata": {},
   "source": [
    "## 2. XML Namelist Template"
   ]
  },
  {
   "cell_type": "markdown",
   "metadata": {},
   "source": [
    "The YAML and JSON frontends of ParamGen are quite flexible in terms of the data layout, or schema. In the case of XML, however, we work with a predefined schema that resembles CESM's `entry_id_namelist.xsd`. The new ParamGen schema, called `entry_id_pg.xsd`, is located in `cime/scripts/lib/CIME/ParamGen/xml_schema/`\n",
    "\n",
    "We first write an example xml file, named `my_tamplate.xml` below that conforms to this new schema."
   ]
  },
  {
   "cell_type": "code",
   "execution_count": 1,
   "metadata": {},
   "outputs": [
    {
     "name": "stdout",
     "output_type": "stream",
     "text": [
      "Writing my_template.xml\n"
     ]
    }
   ],
   "source": [
    "%%writefile my_template.xml\n",
    "<?xml version=\"1.0\"?>\n",
    "\n",
    "<entry_id_pg version=\"0.1\">\n",
    "\n",
    "  <entry id=\"days_per_year\">\n",
    "    <type>real</type>\n",
    "    <group>setup_nml</group>\n",
    "    <desc>Days per year</desc>\n",
    "    <values>\n",
    "      <value>365</value>\n",
    "    </values>\n",
    "  </entry>\n",
    "\n",
    "\n",
    "  <entry id=\"f_anglet\">\n",
    "    <type>logical</type>\n",
    "    <group>icefields_nml</group>\n",
    "    <desc>f_anglet</desc>\n",
    "    <values>\n",
    "      <value>.true.</value>\n",
    "      <value cice_mode=\"prescribed\">.false.</value>\n",
    "    </values>\n",
    "  </entry>\n",
    "\n",
    "  <entry id=\"ice_ic\">\n",
    "    <type>char</type>\n",
    "    <group>setup_nml</group>\n",
    "    <desc>Method of ice cover initialization.</desc>\n",
    "    <values>\n",
    "      <value>UNSET</value>\n",
    "      <value ICE_GRID=\"gx3v7\">${DIN_LOC_ROOT}/ice/cice/b40.t31x3.20th.cice.r.2006-01-01-00000.nc</value>\n",
    "      <value guard='$ICE_GRID .startswith(\"gx1v\")'>${DIN_LOC_ROOT}/ice/cice/b.e15.B1850G.f09_g16.pi_control.25.cice.r.0041-01-01-00000.nc</value>\n",
    "      <value guard='$ICE_GRID .startswith(\"tx0.1v\")'>${DIN_LOC_ROOT}/ice/cice/g.e11.G.T62_t12.002.cice.r.0016-01-01-00000.nc</value>\n",
    "      <value guard='$ICE_GRID .startswith(\"ar9v3\")'>${DIN_LOC_ROOT}/ice/cice/cice5ic/r26RBRCICE5g0.cice.r.1990-09-01-00000.nc</value>\n",
    "    </values>\n",
    "  </entry>\n",
    "\n",
    "\n",
    "</entry_id_pg>"
   ]
  },
  {
   "cell_type": "markdown",
   "metadata": {},
   "source": [
    "The above xml file includes three namelist variable definitions taken from CICE `namelist_definition_cice.xml`. Notice how the format is very similar to the original namelist definition format. Some of the differences between the original `entry_id_namelist.xsd` vs the new `entry_id_pg.xsd:`\n",
    "\n",
    "- To easily distinguish these schemas, the root element in the new schema is called `entry_id_pg`, and not `entry_id`.\n",
    "- Currently, only a subset of descriptive child elements are supported for `entry_id_pg` entries. These are `type`, `group`, and `desc`. More elements may be added as needed.\n",
    "- In the traditional format, value propositions would be specified with arbitrary `<value>`, attributes, e.g., `hgrid=\"gx3v7`\". The new format also supports this specification type. And within a value entry, multiple key=value attributes may be specified, in which case they are joined with logical AND. In ParamGen implementation of XML specification, however, there is an alternative method of specifying guards, which brings about greater flexibility. \n",
    "- The more flexible method is based on specifying guards via the `guard=` attribute. A `guard=` attribute can be any arbitrary Python expression that evalutes to True or False. These expressions can involve any variables (see `expand_func` description in README.ipynb) and any standard Python operators, methods, list comprehensions, etc. Notice how the `.startswith()` method is used to abbreviate the `ice_ic` value list compared to the the traditional proposition specification which would require multiple value entries for each grid starting with \"gx1v\", \"tx0.1v\", and \"ar9v3\"."
   ]
  },
  {
   "cell_type": "markdown",
   "metadata": {},
   "source": [
    "Before showcasing the ParamGen module, we define an `expand_func`. Recall that ParamGen makes use of custom `expand_func` to infer the values of expandable variables. In the above xml file, we have three such variables: `cice_mode`, `ICE_GRID`, and `DIN_LOC_ROOT`."
   ]
  },
  {
   "cell_type": "code",
   "execution_count": 2,
   "metadata": {},
   "outputs": [],
   "source": [
    "def expand_func_demo(varname):\n",
    "    return {\n",
    "    'ICE_GRID': 'gx1v6',\n",
    "    'DIN_LOC_ROOT': '/glade/p/cesmdata/cseg/inputdata',\n",
    "    'cice_mode': 'thermo_only',\n",
    "    }[varname]"
   ]
  },
  {
   "cell_type": "markdown",
   "metadata": {},
   "source": [
    "While the above `expand_func_demo` is a trivial one for demonstration purposes, the below `expand_func` is a real-world example taken from MOM6 within CESM:"
   ]
  },
  {
   "cell_type": "code",
   "execution_count": 3,
   "metadata": {},
   "outputs": [],
   "source": [
    "def expand_func(varname):\n",
    "    return case.get_value(varname)"
   ]
  },
  {
   "cell_type": "markdown",
   "metadata": {},
   "source": [
    "where `case` is a CIME case object whose `get_value()` method returns the values of XML variables like `ICE_GRID`, `DIN_LOC_ROOT`, etc."
   ]
  },
  {
   "cell_type": "markdown",
   "metadata": {},
   "source": [
    "## 3. ParamGen XML namelist format in action\n",
    "\n",
    "We first import the ParamGen class as follows:"
   ]
  },
  {
   "cell_type": "code",
   "execution_count": 4,
   "metadata": {},
   "outputs": [],
   "source": [
    "from paramgen import ParamGen"
   ]
  },
  {
   "cell_type": "markdown",
   "metadata": {},
   "source": [
    "We can now instantiate a ParamGen object by passing the `my_template.xml` file path to the `from_xml_nml()` method of ParamGen"
   ]
  },
  {
   "cell_type": "code",
   "execution_count": 5,
   "metadata": {},
   "outputs": [],
   "source": [
    "pg = ParamGen.from_xml_nml(\"./my_template.xml\")"
   ]
  },
  {
   "cell_type": "markdown",
   "metadata": {},
   "source": [
    "After having instantiated the ParamGen object, we can call its `reduce` method to evaluate guards and infer final namelist variable values. Notice that we pass in the `expand_func_demo` method so ParamGen can infer the values of expandable variables such as `ICE_GRID`."
   ]
  },
  {
   "cell_type": "code",
   "execution_count": 6,
   "metadata": {},
   "outputs": [],
   "source": [
    "pg.reduce(expand_func_demo)"
   ]
  },
  {
   "cell_type": "markdown",
   "metadata": {},
   "source": [
    "Finally, we can write out a Fortran namelist file as follows:"
   ]
  },
  {
   "cell_type": "code",
   "execution_count": 7,
   "metadata": {},
   "outputs": [],
   "source": [
    "pg.write_nml(\"./my_nml_file.nml\")"
   ]
  },
  {
   "cell_type": "markdown",
   "metadata": {},
   "source": [
    "The resulting namelist file is as follows:"
   ]
  },
  {
   "cell_type": "code",
   "execution_count": 8,
   "metadata": {},
   "outputs": [
    {
     "name": "stdout",
     "output_type": "stream",
     "text": [
      "&setup_nml\n",
      "    days_per_year = 365\n",
      "    ice_ic = /glade/p/cesmdata/cseg/inputdata/ice/cice/b.e15.B1850G.f09_g16.pi_control.25.cice.r.0041-01-01-00000.nc\n",
      "/\n",
      "\n",
      "&icefields_nml\n",
      "    f_anglet = .true.\n",
      "/\n",
      "\n"
     ]
    }
   ],
   "source": [
    "!cat ./my_nml_file.nml"
   ]
  },
  {
   "cell_type": "markdown",
   "metadata": {},
   "source": [
    "In addition to writing out the namelist file, we can access the data directly, both before and after the `reduce()` method is called. Some examples:"
   ]
  },
  {
   "cell_type": "code",
   "execution_count": 9,
   "metadata": {},
   "outputs": [
    {
     "name": "stdout",
     "output_type": "stream",
     "text": [
      ".true.\n"
     ]
    }
   ],
   "source": [
    "# print out the final value of `f_anglet`:\n",
    "print(pg.data['icefields_nml']['f_anglet']['values'])"
   ]
  },
  {
   "cell_type": "code",
   "execution_count": 10,
   "metadata": {},
   "outputs": [
    {
     "name": "stdout",
     "output_type": "stream",
     "text": [
      "Days per year\n"
     ]
    }
   ],
   "source": [
    "# print out the description of `days_per_year`:\n",
    "print(pg.data['setup_nml']['days_per_year']['desc'])"
   ]
  },
  {
   "cell_type": "code",
   "execution_count": 11,
   "metadata": {},
   "outputs": [
    {
     "name": "stdout",
     "output_type": "stream",
     "text": [
      "char\n"
     ]
    }
   ],
   "source": [
    "# print out the type of `ice_ic`:\n",
    "print(pg.data['setup_nml']['ice_ic']['type'])"
   ]
  },
  {
   "cell_type": "code",
   "execution_count": null,
   "metadata": {},
   "outputs": [],
   "source": []
  }
 ],
 "metadata": {
  "kernelspec": {
   "display_name": "CMIP6 2019.10",
   "language": "python",
   "name": "cmip6-201910"
  },
  "language_info": {
   "codemirror_mode": {
    "name": "ipython",
    "version": 3
   },
   "file_extension": ".py",
   "mimetype": "text/x-python",
   "name": "python",
   "nbconvert_exporter": "python",
   "pygments_lexer": "ipython3",
   "version": "3.7.10"
  }
 },
 "nbformat": 4,
 "nbformat_minor": 4
}
